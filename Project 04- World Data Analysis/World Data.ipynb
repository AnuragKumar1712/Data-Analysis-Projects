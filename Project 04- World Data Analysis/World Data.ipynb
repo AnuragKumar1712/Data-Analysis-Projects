{
 "cells": [
  {
   "cell_type": "markdown",
   "id": "4814ce4e-4f86-404b-80d3-42c827636463",
   "metadata": {},
   "source": [
    "## Importing Libraries\n"
   ]
  },
  {
   "cell_type": "code",
   "execution_count": 2,
   "id": "93e5ff3d-8d1a-45c9-8565-ae7a45eaf3df",
   "metadata": {},
   "outputs": [],
   "source": [
    "import pandas as pd\n",
    "import numpy as np\n",
    "import seaborn as sns\n",
    "import matplotlib.pyplot as plt"
   ]
  },
  {
   "cell_type": "markdown",
   "id": "d0493114-bfbb-4ba3-88cd-1630a4dfc21d",
   "metadata": {},
   "source": [
    "## Load and Check the DataSet"
   ]
  },
  {
   "cell_type": "code",
   "execution_count": 4,
   "id": "253420ab-b1a4-4223-8772-e7de2b58142e",
   "metadata": {},
   "outputs": [
    {
     "data": {
      "text/html": [
       "<div>\n",
       "<style scoped>\n",
       "    .dataframe tbody tr th:only-of-type {\n",
       "        vertical-align: middle;\n",
       "    }\n",
       "\n",
       "    .dataframe tbody tr th {\n",
       "        vertical-align: top;\n",
       "    }\n",
       "\n",
       "    .dataframe thead th {\n",
       "        text-align: right;\n",
       "    }\n",
       "</style>\n",
       "<table border=\"1\" class=\"dataframe\">\n",
       "  <thead>\n",
       "    <tr style=\"text-align: right;\">\n",
       "      <th></th>\n",
       "      <th>Code</th>\n",
       "      <th>Name</th>\n",
       "      <th>Continent</th>\n",
       "      <th>Region</th>\n",
       "      <th>SurfaceArea</th>\n",
       "      <th>IndepYear</th>\n",
       "      <th>Population</th>\n",
       "      <th>LifeExpectancy</th>\n",
       "      <th>GNP</th>\n",
       "      <th>GNPOld</th>\n",
       "      <th>LocalName</th>\n",
       "      <th>GovernmentForm</th>\n",
       "      <th>HeadOfState</th>\n",
       "      <th>Capital</th>\n",
       "      <th>Code2</th>\n",
       "    </tr>\n",
       "  </thead>\n",
       "  <tbody>\n",
       "    <tr>\n",
       "      <th>0</th>\n",
       "      <td>ABW</td>\n",
       "      <td>Aruba</td>\n",
       "      <td>North America</td>\n",
       "      <td>Caribbean</td>\n",
       "      <td>193.0</td>\n",
       "      <td>NaN</td>\n",
       "      <td>103000</td>\n",
       "      <td>78.4</td>\n",
       "      <td>828.0</td>\n",
       "      <td>793.0</td>\n",
       "      <td>Aruba</td>\n",
       "      <td>Nonmetropolitan Territory of The Netherlands</td>\n",
       "      <td>Beatrix</td>\n",
       "      <td>129.0</td>\n",
       "      <td>AW</td>\n",
       "    </tr>\n",
       "    <tr>\n",
       "      <th>1</th>\n",
       "      <td>AFG</td>\n",
       "      <td>Afghanistan</td>\n",
       "      <td>Asia</td>\n",
       "      <td>Southern and Central Asia</td>\n",
       "      <td>652090.0</td>\n",
       "      <td>1919.0</td>\n",
       "      <td>22720000</td>\n",
       "      <td>45.9</td>\n",
       "      <td>5976.0</td>\n",
       "      <td>NaN</td>\n",
       "      <td>Afganistan/Afqanestan</td>\n",
       "      <td>Islamic Emirate</td>\n",
       "      <td>Mohammad Omar</td>\n",
       "      <td>1.0</td>\n",
       "      <td>AF</td>\n",
       "    </tr>\n",
       "    <tr>\n",
       "      <th>2</th>\n",
       "      <td>AGO</td>\n",
       "      <td>Angola</td>\n",
       "      <td>Africa</td>\n",
       "      <td>Central Africa</td>\n",
       "      <td>1246700.0</td>\n",
       "      <td>1975.0</td>\n",
       "      <td>12878000</td>\n",
       "      <td>38.3</td>\n",
       "      <td>6648.0</td>\n",
       "      <td>7984.0</td>\n",
       "      <td>Angola</td>\n",
       "      <td>Republic</td>\n",
       "      <td>José Eduardo dos Santos</td>\n",
       "      <td>56.0</td>\n",
       "      <td>AO</td>\n",
       "    </tr>\n",
       "    <tr>\n",
       "      <th>3</th>\n",
       "      <td>AIA</td>\n",
       "      <td>Anguilla</td>\n",
       "      <td>North America</td>\n",
       "      <td>Caribbean</td>\n",
       "      <td>96.0</td>\n",
       "      <td>NaN</td>\n",
       "      <td>8000</td>\n",
       "      <td>76.1</td>\n",
       "      <td>63.2</td>\n",
       "      <td>NaN</td>\n",
       "      <td>Anguilla</td>\n",
       "      <td>Dependent Territory of the UK</td>\n",
       "      <td>Elisabeth II</td>\n",
       "      <td>62.0</td>\n",
       "      <td>AI</td>\n",
       "    </tr>\n",
       "    <tr>\n",
       "      <th>4</th>\n",
       "      <td>ALB</td>\n",
       "      <td>Albania</td>\n",
       "      <td>Europe</td>\n",
       "      <td>Southern Europe</td>\n",
       "      <td>28748.0</td>\n",
       "      <td>1912.0</td>\n",
       "      <td>3401200</td>\n",
       "      <td>71.6</td>\n",
       "      <td>3205.0</td>\n",
       "      <td>2500.0</td>\n",
       "      <td>Shqipëria</td>\n",
       "      <td>Republic</td>\n",
       "      <td>Rexhep Mejdani</td>\n",
       "      <td>34.0</td>\n",
       "      <td>AL</td>\n",
       "    </tr>\n",
       "  </tbody>\n",
       "</table>\n",
       "</div>"
      ],
      "text/plain": [
       "  Code         Name      Continent                     Region  SurfaceArea  \\\n",
       "0  ABW        Aruba  North America                  Caribbean        193.0   \n",
       "1  AFG  Afghanistan           Asia  Southern and Central Asia     652090.0   \n",
       "2  AGO       Angola         Africa             Central Africa    1246700.0   \n",
       "3  AIA     Anguilla  North America                  Caribbean         96.0   \n",
       "4  ALB      Albania         Europe            Southern Europe      28748.0   \n",
       "\n",
       "   IndepYear  Population  LifeExpectancy     GNP  GNPOld  \\\n",
       "0        NaN      103000            78.4   828.0   793.0   \n",
       "1     1919.0    22720000            45.9  5976.0     NaN   \n",
       "2     1975.0    12878000            38.3  6648.0  7984.0   \n",
       "3        NaN        8000            76.1    63.2     NaN   \n",
       "4     1912.0     3401200            71.6  3205.0  2500.0   \n",
       "\n",
       "               LocalName                                GovernmentForm  \\\n",
       "0                  Aruba  Nonmetropolitan Territory of The Netherlands   \n",
       "1  Afganistan/Afqanestan                               Islamic Emirate   \n",
       "2                 Angola                                      Republic   \n",
       "3               Anguilla                 Dependent Territory of the UK   \n",
       "4              Shqipëria                                      Republic   \n",
       "\n",
       "               HeadOfState  Capital Code2  \n",
       "0                  Beatrix    129.0    AW  \n",
       "1            Mohammad Omar      1.0    AF  \n",
       "2  José Eduardo dos Santos     56.0    AO  \n",
       "3             Elisabeth II     62.0    AI  \n",
       "4           Rexhep Mejdani     34.0    AL  "
      ]
     },
     "execution_count": 4,
     "metadata": {},
     "output_type": "execute_result"
    }
   ],
   "source": [
    "df = pd.read_csv(r\"D:\\ANURAG KUMAR\\Project\\Data Analysis\\Projeact 4\\WorldData.csv\")\n",
    "df.head()"
   ]
  },
  {
   "cell_type": "markdown",
   "id": "c2066f59-87a8-4d0a-9efd-2a876e256342",
   "metadata": {},
   "source": [
    "## Get all the Information About the DataSet"
   ]
  },
  {
   "cell_type": "code",
   "execution_count": 6,
   "id": "2fc6ddb8-7f9d-46b5-a751-552ae2d14cf7",
   "metadata": {},
   "outputs": [
    {
     "name": "stdout",
     "output_type": "stream",
     "text": [
      "<class 'pandas.core.frame.DataFrame'>\n",
      "RangeIndex: 239 entries, 0 to 238\n",
      "Data columns (total 15 columns):\n",
      " #   Column          Non-Null Count  Dtype  \n",
      "---  ------          --------------  -----  \n",
      " 0   Code            239 non-null    object \n",
      " 1   Name            239 non-null    object \n",
      " 2   Continent       239 non-null    object \n",
      " 3   Region          239 non-null    object \n",
      " 4   SurfaceArea     239 non-null    float64\n",
      " 5   IndepYear       192 non-null    float64\n",
      " 6   Population      239 non-null    int64  \n",
      " 7   LifeExpectancy  222 non-null    float64\n",
      " 8   GNP             239 non-null    float64\n",
      " 9   GNPOld          178 non-null    float64\n",
      " 10  LocalName       239 non-null    object \n",
      " 11  GovernmentForm  239 non-null    object \n",
      " 12  HeadOfState     236 non-null    object \n",
      " 13  Capital         232 non-null    float64\n",
      " 14  Code2           238 non-null    object \n",
      "dtypes: float64(6), int64(1), object(8)\n",
      "memory usage: 28.1+ KB\n"
     ]
    }
   ],
   "source": [
    "df. info()"
   ]
  },
  {
   "cell_type": "markdown",
   "id": "3881847a-d969-4d5e-986b-2d2084a7fa21",
   "metadata": {},
   "source": [
    "## Get Statistical Data on DataSet"
   ]
  },
  {
   "cell_type": "code",
   "execution_count": 8,
   "id": "62570d1f-4e6f-47ce-b375-f647dcdeddb4",
   "metadata": {},
   "outputs": [
    {
     "data": {
      "text/html": [
       "<div>\n",
       "<style scoped>\n",
       "    .dataframe tbody tr th:only-of-type {\n",
       "        vertical-align: middle;\n",
       "    }\n",
       "\n",
       "    .dataframe tbody tr th {\n",
       "        vertical-align: top;\n",
       "    }\n",
       "\n",
       "    .dataframe thead th {\n",
       "        text-align: right;\n",
       "    }\n",
       "</style>\n",
       "<table border=\"1\" class=\"dataframe\">\n",
       "  <thead>\n",
       "    <tr style=\"text-align: right;\">\n",
       "      <th></th>\n",
       "      <th>SurfaceArea</th>\n",
       "      <th>IndepYear</th>\n",
       "      <th>Population</th>\n",
       "      <th>LifeExpectancy</th>\n",
       "      <th>GNP</th>\n",
       "      <th>GNPOld</th>\n",
       "      <th>Capital</th>\n",
       "    </tr>\n",
       "  </thead>\n",
       "  <tbody>\n",
       "    <tr>\n",
       "      <th>count</th>\n",
       "      <td>2.390000e+02</td>\n",
       "      <td>192.000000</td>\n",
       "      <td>2.390000e+02</td>\n",
       "      <td>222.000000</td>\n",
       "      <td>2.390000e+02</td>\n",
       "      <td>1.780000e+02</td>\n",
       "      <td>232.000000</td>\n",
       "    </tr>\n",
       "    <tr>\n",
       "      <th>mean</th>\n",
       "      <td>6.232481e+05</td>\n",
       "      <td>1847.260417</td>\n",
       "      <td>2.543410e+07</td>\n",
       "      <td>66.486036</td>\n",
       "      <td>1.228239e+05</td>\n",
       "      <td>1.655343e+05</td>\n",
       "      <td>2071.306034</td>\n",
       "    </tr>\n",
       "    <tr>\n",
       "      <th>std</th>\n",
       "      <td>1.924140e+06</td>\n",
       "      <td>420.831370</td>\n",
       "      <td>1.093398e+08</td>\n",
       "      <td>11.519267</td>\n",
       "      <td>6.379976e+05</td>\n",
       "      <td>7.204689e+05</td>\n",
       "      <td>1184.095609</td>\n",
       "    </tr>\n",
       "    <tr>\n",
       "      <th>min</th>\n",
       "      <td>4.000000e-01</td>\n",
       "      <td>-1523.000000</td>\n",
       "      <td>0.000000e+00</td>\n",
       "      <td>37.200000</td>\n",
       "      <td>0.000000e+00</td>\n",
       "      <td>1.570000e+02</td>\n",
       "      <td>1.000000</td>\n",
       "    </tr>\n",
       "    <tr>\n",
       "      <th>25%</th>\n",
       "      <td>2.275000e+03</td>\n",
       "      <td>1906.750000</td>\n",
       "      <td>2.380000e+05</td>\n",
       "      <td>60.300000</td>\n",
       "      <td>6.400000e+02</td>\n",
       "      <td>2.187000e+03</td>\n",
       "      <td>915.750000</td>\n",
       "    </tr>\n",
       "    <tr>\n",
       "      <th>50%</th>\n",
       "      <td>7.174000e+04</td>\n",
       "      <td>1960.000000</td>\n",
       "      <td>3.869000e+06</td>\n",
       "      <td>70.150000</td>\n",
       "      <td>4.787000e+03</td>\n",
       "      <td>8.421000e+03</td>\n",
       "      <td>2449.500000</td>\n",
       "    </tr>\n",
       "    <tr>\n",
       "      <th>75%</th>\n",
       "      <td>3.987545e+05</td>\n",
       "      <td>1974.000000</td>\n",
       "      <td>1.493550e+07</td>\n",
       "      <td>75.500000</td>\n",
       "      <td>2.994450e+04</td>\n",
       "      <td>7.114550e+04</td>\n",
       "      <td>3065.250000</td>\n",
       "    </tr>\n",
       "    <tr>\n",
       "      <th>max</th>\n",
       "      <td>1.707540e+07</td>\n",
       "      <td>1994.000000</td>\n",
       "      <td>1.277558e+09</td>\n",
       "      <td>83.500000</td>\n",
       "      <td>8.510700e+06</td>\n",
       "      <td>8.110900e+06</td>\n",
       "      <td>4074.000000</td>\n",
       "    </tr>\n",
       "  </tbody>\n",
       "</table>\n",
       "</div>"
      ],
      "text/plain": [
       "        SurfaceArea    IndepYear    Population  LifeExpectancy           GNP  \\\n",
       "count  2.390000e+02   192.000000  2.390000e+02      222.000000  2.390000e+02   \n",
       "mean   6.232481e+05  1847.260417  2.543410e+07       66.486036  1.228239e+05   \n",
       "std    1.924140e+06   420.831370  1.093398e+08       11.519267  6.379976e+05   \n",
       "min    4.000000e-01 -1523.000000  0.000000e+00       37.200000  0.000000e+00   \n",
       "25%    2.275000e+03  1906.750000  2.380000e+05       60.300000  6.400000e+02   \n",
       "50%    7.174000e+04  1960.000000  3.869000e+06       70.150000  4.787000e+03   \n",
       "75%    3.987545e+05  1974.000000  1.493550e+07       75.500000  2.994450e+04   \n",
       "max    1.707540e+07  1994.000000  1.277558e+09       83.500000  8.510700e+06   \n",
       "\n",
       "             GNPOld      Capital  \n",
       "count  1.780000e+02   232.000000  \n",
       "mean   1.655343e+05  2071.306034  \n",
       "std    7.204689e+05  1184.095609  \n",
       "min    1.570000e+02     1.000000  \n",
       "25%    2.187000e+03   915.750000  \n",
       "50%    8.421000e+03  2449.500000  \n",
       "75%    7.114550e+04  3065.250000  \n",
       "max    8.110900e+06  4074.000000  "
      ]
     },
     "execution_count": 8,
     "metadata": {},
     "output_type": "execute_result"
    }
   ],
   "source": [
    "df.describe()"
   ]
  },
  {
   "cell_type": "markdown",
   "id": "9d616a22-cf10-48ba-8f9b-1591720c10a0",
   "metadata": {},
   "source": [
    "## Check For Missing Values"
   ]
  },
  {
   "cell_type": "code",
   "execution_count": 10,
   "id": "cd150ec3-2102-4bda-8f19-f36c4ebab741",
   "metadata": {},
   "outputs": [
    {
     "data": {
      "text/plain": [
       "Code               0\n",
       "Name               0\n",
       "Continent          0\n",
       "Region             0\n",
       "SurfaceArea        0\n",
       "IndepYear         47\n",
       "Population         0\n",
       "LifeExpectancy    17\n",
       "GNP                0\n",
       "GNPOld            61\n",
       "LocalName          0\n",
       "GovernmentForm     0\n",
       "HeadOfState        3\n",
       "Capital            7\n",
       "Code2              1\n",
       "dtype: int64"
      ]
     },
     "execution_count": 10,
     "metadata": {},
     "output_type": "execute_result"
    }
   ],
   "source": [
    "df.isnull().sum()\n",
    "# OR\n",
    "df.isna().sum()\n",
    "# Both Gives Same result"
   ]
  },
  {
   "cell_type": "markdown",
   "id": "5f36223f-8f9d-4d39-a477-015a004345a8",
   "metadata": {},
   "source": [
    "## Visualizing Missing values"
   ]
  },
  {
   "cell_type": "code",
   "execution_count": 12,
   "id": "024bd132-0702-41b7-8630-7b9e968d8ad3",
   "metadata": {},
   "outputs": [
    {
     "data": {
      "text/plain": [
       "<Axes: >"
      ]
     },
     "execution_count": 12,
     "metadata": {},
     "output_type": "execute_result"
    },
    {
     "data": {
      "image/png": "[encoded data removed]",
      "text/plain": [
       "<Figure size 640x480 with 2 Axes>"
      ]
     },
     "metadata": {},
     "output_type": "display_data"
    }
   ],
   "source": [
    " sns.heatmap(df.isnull())"
   ]
  },
  {
   "cell_type": "markdown",
   "id": "68ebab4b-0209-4d28-b24a-2e3a4ab656bf",
   "metadata": {},
   "source": [
    "## Remove Unwanted Columns"
   ]
  },
  {
   "cell_type": "code",
   "execution_count": 14,
   "id": "487b3b28-6930-4e72-85f3-39194375318c",
   "metadata": {},
   "outputs": [
    {
     "data": {
      "text/html": [
       "<div>\n",
       "<style scoped>\n",
       "    .dataframe tbody tr th:only-of-type {\n",
       "        vertical-align: middle;\n",
       "    }\n",
       "\n",
       "    .dataframe tbody tr th {\n",
       "        vertical-align: top;\n",
       "    }\n",
       "\n",
       "    .dataframe thead th {\n",
       "        text-align: right;\n",
       "    }\n",
       "</style>\n",
       "<table border=\"1\" class=\"dataframe\">\n",
       "  <thead>\n",
       "    <tr style=\"text-align: right;\">\n",
       "      <th></th>\n",
       "      <th>Code</th>\n",
       "      <th>Name</th>\n",
       "      <th>Continent</th>\n",
       "      <th>Region</th>\n",
       "      <th>SurfaceArea</th>\n",
       "      <th>IndepYear</th>\n",
       "      <th>Population</th>\n",
       "      <th>LifeExpectancy</th>\n",
       "      <th>LocalName</th>\n",
       "      <th>GovernmentForm</th>\n",
       "      <th>HeadOfState</th>\n",
       "      <th>Capital</th>\n",
       "      <th>Code2</th>\n",
       "    </tr>\n",
       "  </thead>\n",
       "  <tbody>\n",
       "    <tr>\n",
       "      <th>0</th>\n",
       "      <td>ABW</td>\n",
       "      <td>Aruba</td>\n",
       "      <td>North America</td>\n",
       "      <td>Caribbean</td>\n",
       "      <td>193.0</td>\n",
       "      <td>NaN</td>\n",
       "      <td>103000</td>\n",
       "      <td>78.4</td>\n",
       "      <td>Aruba</td>\n",
       "      <td>Nonmetropolitan Territory of The Netherlands</td>\n",
       "      <td>Beatrix</td>\n",
       "      <td>129.0</td>\n",
       "      <td>AW</td>\n",
       "    </tr>\n",
       "    <tr>\n",
       "      <th>1</th>\n",
       "      <td>AFG</td>\n",
       "      <td>Afghanistan</td>\n",
       "      <td>Asia</td>\n",
       "      <td>Southern and Central Asia</td>\n",
       "      <td>652090.0</td>\n",
       "      <td>1919.0</td>\n",
       "      <td>22720000</td>\n",
       "      <td>45.9</td>\n",
       "      <td>Afganistan/Afqanestan</td>\n",
       "      <td>Islamic Emirate</td>\n",
       "      <td>Mohammad Omar</td>\n",
       "      <td>1.0</td>\n",
       "      <td>AF</td>\n",
       "    </tr>\n",
       "    <tr>\n",
       "      <th>2</th>\n",
       "      <td>AGO</td>\n",
       "      <td>Angola</td>\n",
       "      <td>Africa</td>\n",
       "      <td>Central Africa</td>\n",
       "      <td>1246700.0</td>\n",
       "      <td>1975.0</td>\n",
       "      <td>12878000</td>\n",
       "      <td>38.3</td>\n",
       "      <td>Angola</td>\n",
       "      <td>Republic</td>\n",
       "      <td>José Eduardo dos Santos</td>\n",
       "      <td>56.0</td>\n",
       "      <td>AO</td>\n",
       "    </tr>\n",
       "    <tr>\n",
       "      <th>3</th>\n",
       "      <td>AIA</td>\n",
       "      <td>Anguilla</td>\n",
       "      <td>North America</td>\n",
       "      <td>Caribbean</td>\n",
       "      <td>96.0</td>\n",
       "      <td>NaN</td>\n",
       "      <td>8000</td>\n",
       "      <td>76.1</td>\n",
       "      <td>Anguilla</td>\n",
       "      <td>Dependent Territory of the UK</td>\n",
       "      <td>Elisabeth II</td>\n",
       "      <td>62.0</td>\n",
       "      <td>AI</td>\n",
       "    </tr>\n",
       "    <tr>\n",
       "      <th>4</th>\n",
       "      <td>ALB</td>\n",
       "      <td>Albania</td>\n",
       "      <td>Europe</td>\n",
       "      <td>Southern Europe</td>\n",
       "      <td>28748.0</td>\n",
       "      <td>1912.0</td>\n",
       "      <td>3401200</td>\n",
       "      <td>71.6</td>\n",
       "      <td>Shqipëria</td>\n",
       "      <td>Republic</td>\n",
       "      <td>Rexhep Mejdani</td>\n",
       "      <td>34.0</td>\n",
       "      <td>AL</td>\n",
       "    </tr>\n",
       "  </tbody>\n",
       "</table>\n",
       "</div>"
      ],
      "text/plain": [
       "  Code         Name      Continent                     Region  SurfaceArea  \\\n",
       "0  ABW        Aruba  North America                  Caribbean        193.0   \n",
       "1  AFG  Afghanistan           Asia  Southern and Central Asia     652090.0   \n",
       "2  AGO       Angola         Africa             Central Africa    1246700.0   \n",
       "3  AIA     Anguilla  North America                  Caribbean         96.0   \n",
       "4  ALB      Albania         Europe            Southern Europe      28748.0   \n",
       "\n",
       "   IndepYear  Population  LifeExpectancy              LocalName  \\\n",
       "0        NaN      103000            78.4                  Aruba   \n",
       "1     1919.0    22720000            45.9  Afganistan/Afqanestan   \n",
       "2     1975.0    12878000            38.3                 Angola   \n",
       "3        NaN        8000            76.1               Anguilla   \n",
       "4     1912.0     3401200            71.6              Shqipëria   \n",
       "\n",
       "                                 GovernmentForm              HeadOfState  \\\n",
       "0  Nonmetropolitan Territory of The Netherlands                  Beatrix   \n",
       "1                               Islamic Emirate            Mohammad Omar   \n",
       "2                                      Republic  José Eduardo dos Santos   \n",
       "3                 Dependent Territory of the UK             Elisabeth II   \n",
       "4                                      Republic           Rexhep Mejdani   \n",
       "\n",
       "   Capital Code2  \n",
       "0    129.0    AW  \n",
       "1      1.0    AF  \n",
       "2     56.0    AO  \n",
       "3     62.0    AI  \n",
       "4     34.0    AL  "
      ]
     },
     "execution_count": 14,
     "metadata": {},
     "output_type": "execute_result"
    }
   ],
   "source": [
    "df.drop(columns='GNP', inplace=True)\n",
    "df.drop(columns='GNPOld', inplace=True)\n",
    "df.head()"
   ]
  },
  {
   "cell_type": "markdown",
   "id": "028cc3c5-01c1-437c-ac3b-44ff8a126a85",
   "metadata": {},
   "source": [
    "## Renaming a Column"
   ]
  },
  {
   "cell_type": "code",
   "execution_count": 17,
   "id": "6d15a10e-8e72-4a6d-9e10-17434e1f0629",
   "metadata": {},
   "outputs": [],
   "source": [
    "df.rename(columns = {'IndepYear' : 'IndependentYear'}, inplace = True)"
   ]
  },
  {
   "cell_type": "markdown",
   "id": "2adf9711-aa0f-48e0-b320-557a4bcc763d",
   "metadata": {},
   "source": [
    "## Extract the names of all the columns in the Dataset"
   ]
  },
  {
   "cell_type": "code",
   "execution_count": 20,
   "id": "79c65771-3f1e-4d57-a5d0-883b55c69fc1",
   "metadata": {},
   "outputs": [
    {
     "data": {
      "text/plain": [
       "Index(['Code', 'Name', 'Continent', 'Region', 'SurfaceArea', 'IndependentYear',\n",
       "       'Population', 'LifeExpectancy', 'LocalName', 'GovernmentForm',\n",
       "       'HeadOfState', 'Capital', 'Code2'],\n",
       "      dtype='object')"
      ]
     },
     "execution_count": 20,
     "metadata": {},
     "output_type": "execute_result"
    }
   ],
   "source": [
    "df.columns"
   ]
  },
  {
   "cell_type": "markdown",
   "id": "b410f6ce-3344-4b9b-b6e1-4a859634e6a4",
   "metadata": {},
   "source": [
    "## Check Datatypes of all the Columns"
   ]
  },
  {
   "cell_type": "code",
   "execution_count": 23,
   "id": "c338205a-2f71-4f15-94ec-8378357a2574",
   "metadata": {},
   "outputs": [
    {
     "data": {
      "text/plain": [
       "Code                object\n",
       "Name                object\n",
       "Continent           object\n",
       "Region              object\n",
       "SurfaceArea        float64\n",
       "IndependentYear    float64\n",
       "Population           int64\n",
       "LifeExpectancy     float64\n",
       "LocalName           object\n",
       "GovernmentForm      object\n",
       "HeadOfState         object\n",
       "Capital            float64\n",
       "Code2               object\n",
       "dtype: object"
      ]
     },
     "execution_count": 23,
     "metadata": {},
     "output_type": "execute_result"
    }
   ],
   "source": [
    "df.dtypes"
   ]
  },
  {
   "cell_type": "markdown",
   "id": "214bab99-2d12-4b92-8e11-384350a7b374",
   "metadata": {},
   "source": [
    "## Handling Missing or NULL Values"
   ]
  },
  {
   "cell_type": "code",
   "execution_count": 26,
   "id": "7f31c21e-522f-4fb7-ad97-f9bc37675dc1",
   "metadata": {},
   "outputs": [],
   "source": [
    "df['IndependentYear'] = df['IndependentYear'].fillna(0) #Replacing With 0\n",
    "\n",
    "df['LifeExpectancy'] = df['LifeExpectancy'].fillna(df['LifeExpectancy'].mean())  # Replace with mean\n",
    "df['Capital'] = df['Capital'].fillna(df['Capital'].mean())  # Replace with mean\n",
    "\n",
    "df['HeadOfState'] = df['HeadOfState'].fillna('Unknown')   # Replace with \"Unknown\"\n",
    "df['Code2'] = df['Code2'].fillna('N/A')   # Replace with \"N/A\""
   ]
  },
  {
   "cell_type": "code",
   "execution_count": 28,
   "id": "a91c6e0d-f013-4e54-8700-ced01ea415e5",
   "metadata": {},
   "outputs": [
    {
     "data": {
      "text/plain": [
       "Code               0\n",
       "Name               0\n",
       "Continent          0\n",
       "Region             0\n",
       "SurfaceArea        0\n",
       "IndependentYear    0\n",
       "Population         0\n",
       "LifeExpectancy     0\n",
       "LocalName          0\n",
       "GovernmentForm     0\n",
       "HeadOfState        0\n",
       "Capital            0\n",
       "Code2              0\n",
       "dtype: int64"
      ]
     },
     "execution_count": 28,
     "metadata": {},
     "output_type": "execute_result"
    }
   ],
   "source": [
    "df.isnull().sum()"
   ]
  },
  {
   "cell_type": "markdown",
   "id": "94123636-eba3-4416-a33f-00f9202b29c8",
   "metadata": {},
   "source": [
    "## Count Number of Unique Values in Each Column"
   ]
  },
  {
   "cell_type": "code",
   "execution_count": 31,
   "id": "efb12e33-e581-4a53-a984-5b67e04b1781",
   "metadata": {},
   "outputs": [
    {
     "data": {
      "text/plain": [
       "Code               239\n",
       "Name               239\n",
       "Continent            7\n",
       "Region              25\n",
       "SurfaceArea        238\n",
       "IndependentYear     89\n",
       "Population         226\n",
       "LifeExpectancy     161\n",
       "LocalName          239\n",
       "GovernmentForm      35\n",
       "HeadOfState        179\n",
       "Capital            233\n",
       "Code2              239\n",
       "dtype: int64"
      ]
     },
     "execution_count": 31,
     "metadata": {},
     "output_type": "execute_result"
    }
   ],
   "source": [
    "df.nunique()"
   ]
  },
  {
   "cell_type": "markdown",
   "id": "a60176fc-7395-4297-a43a-af87e3d35f9e",
   "metadata": {},
   "source": [
    "## Name All the Unique Values in 'Continent' Column"
   ]
  },
  {
   "cell_type": "code",
   "execution_count": 34,
   "id": "0044f4b3-ffd0-4240-8573-e2cea543dc1c",
   "metadata": {},
   "outputs": [
    {
     "data": {
      "text/plain": [
       "Continent\n",
       "Africa           58\n",
       "Asia             51\n",
       "Europe           46\n",
       "North America    37\n",
       "Oceania          28\n",
       "South America    14\n",
       "Antarctica        5\n",
       "Name: count, dtype: int64"
      ]
     },
     "execution_count": 34,
     "metadata": {},
     "output_type": "execute_result"
    }
   ],
   "source": [
    "df['Continent'].value_counts()\n",
    "      # OR\n",
    "df.Continent.value_counts()    # Both gives same result"
   ]
  },
  {
   "cell_type": "markdown",
   "id": "07307473-3ec0-4c77-9d4c-f48bc807344d",
   "metadata": {},
   "source": [
    "## Get all the values of 'Antarctica' Continent"
   ]
  },
  {
   "cell_type": "code",
   "execution_count": 37,
   "id": "602eacc8-9fdf-424e-9136-6b44b7b4c11a",
   "metadata": {},
   "outputs": [
    {
     "data": {
      "text/html": [
       "<div>\n",
       "<style scoped>\n",
       "    .dataframe tbody tr th:only-of-type {\n",
       "        vertical-align: middle;\n",
       "    }\n",
       "\n",
       "    .dataframe tbody tr th {\n",
       "        vertical-align: top;\n",
       "    }\n",
       "\n",
       "    .dataframe thead th {\n",
       "        text-align: right;\n",
       "    }\n",
       "</style>\n",
       "<table border=\"1\" class=\"dataframe\">\n",
       "  <thead>\n",
       "    <tr style=\"text-align: right;\">\n",
       "      <th></th>\n",
       "      <th>Code</th>\n",
       "      <th>Name</th>\n",
       "      <th>Continent</th>\n",
       "      <th>Region</th>\n",
       "      <th>SurfaceArea</th>\n",
       "      <th>IndependentYear</th>\n",
       "      <th>Population</th>\n",
       "      <th>LifeExpectancy</th>\n",
       "      <th>LocalName</th>\n",
       "      <th>GovernmentForm</th>\n",
       "      <th>HeadOfState</th>\n",
       "      <th>Capital</th>\n",
       "      <th>Code2</th>\n",
       "    </tr>\n",
       "  </thead>\n",
       "  <tbody>\n",
       "    <tr>\n",
       "      <th>11</th>\n",
       "      <td>ATA</td>\n",
       "      <td>Antarctica</td>\n",
       "      <td>Antarctica</td>\n",
       "      <td>Antarctica</td>\n",
       "      <td>13120000.0</td>\n",
       "      <td>0.0</td>\n",
       "      <td>0</td>\n",
       "      <td>66.486036</td>\n",
       "      <td>–</td>\n",
       "      <td>Co-administrated</td>\n",
       "      <td>Unknown</td>\n",
       "      <td>2071.306034</td>\n",
       "      <td>AQ</td>\n",
       "    </tr>\n",
       "    <tr>\n",
       "      <th>12</th>\n",
       "      <td>ATF</td>\n",
       "      <td>French Southern territories</td>\n",
       "      <td>Antarctica</td>\n",
       "      <td>Antarctica</td>\n",
       "      <td>7780.0</td>\n",
       "      <td>0.0</td>\n",
       "      <td>0</td>\n",
       "      <td>66.486036</td>\n",
       "      <td>Terres australes françaises</td>\n",
       "      <td>Nonmetropolitan Territory of France</td>\n",
       "      <td>Jacques Chirac</td>\n",
       "      <td>2071.306034</td>\n",
       "      <td>TF</td>\n",
       "    </tr>\n",
       "    <tr>\n",
       "      <th>34</th>\n",
       "      <td>BVT</td>\n",
       "      <td>Bouvet Island</td>\n",
       "      <td>Antarctica</td>\n",
       "      <td>Antarctica</td>\n",
       "      <td>59.0</td>\n",
       "      <td>0.0</td>\n",
       "      <td>0</td>\n",
       "      <td>66.486036</td>\n",
       "      <td>Bouvetøya</td>\n",
       "      <td>Dependent Territory of Norway</td>\n",
       "      <td>Harald V</td>\n",
       "      <td>2071.306034</td>\n",
       "      <td>BV</td>\n",
       "    </tr>\n",
       "    <tr>\n",
       "      <th>93</th>\n",
       "      <td>HMD</td>\n",
       "      <td>Heard Island and McDonald Islands</td>\n",
       "      <td>Antarctica</td>\n",
       "      <td>Antarctica</td>\n",
       "      <td>359.0</td>\n",
       "      <td>0.0</td>\n",
       "      <td>0</td>\n",
       "      <td>66.486036</td>\n",
       "      <td>Heard and McDonald Islands</td>\n",
       "      <td>Territory of Australia</td>\n",
       "      <td>Elisabeth II</td>\n",
       "      <td>2071.306034</td>\n",
       "      <td>HM</td>\n",
       "    </tr>\n",
       "    <tr>\n",
       "      <th>187</th>\n",
       "      <td>SGS</td>\n",
       "      <td>South Georgia and the South Sandwich Islands</td>\n",
       "      <td>Antarctica</td>\n",
       "      <td>Antarctica</td>\n",
       "      <td>3903.0</td>\n",
       "      <td>0.0</td>\n",
       "      <td>0</td>\n",
       "      <td>66.486036</td>\n",
       "      <td>South Georgia and the South Sandwich Islands</td>\n",
       "      <td>Dependent Territory of the UK</td>\n",
       "      <td>Elisabeth II</td>\n",
       "      <td>2071.306034</td>\n",
       "      <td>GS</td>\n",
       "    </tr>\n",
       "  </tbody>\n",
       "</table>\n",
       "</div>"
      ],
      "text/plain": [
       "    Code                                          Name   Continent  \\\n",
       "11   ATA                                    Antarctica  Antarctica   \n",
       "12   ATF                   French Southern territories  Antarctica   \n",
       "34   BVT                                 Bouvet Island  Antarctica   \n",
       "93   HMD             Heard Island and McDonald Islands  Antarctica   \n",
       "187  SGS  South Georgia and the South Sandwich Islands  Antarctica   \n",
       "\n",
       "         Region  SurfaceArea  IndependentYear  Population  LifeExpectancy  \\\n",
       "11   Antarctica   13120000.0              0.0           0       66.486036   \n",
       "12   Antarctica       7780.0              0.0           0       66.486036   \n",
       "34   Antarctica         59.0              0.0           0       66.486036   \n",
       "93   Antarctica        359.0              0.0           0       66.486036   \n",
       "187  Antarctica       3903.0              0.0           0       66.486036   \n",
       "\n",
       "                                        LocalName  \\\n",
       "11                                              –   \n",
       "12                    Terres australes françaises   \n",
       "34                                      Bouvetøya   \n",
       "93                     Heard and McDonald Islands   \n",
       "187  South Georgia and the South Sandwich Islands   \n",
       "\n",
       "                          GovernmentForm     HeadOfState      Capital Code2  \n",
       "11                      Co-administrated         Unknown  2071.306034    AQ  \n",
       "12   Nonmetropolitan Territory of France  Jacques Chirac  2071.306034    TF  \n",
       "34         Dependent Territory of Norway        Harald V  2071.306034    BV  \n",
       "93                Territory of Australia    Elisabeth II  2071.306034    HM  \n",
       "187        Dependent Territory of the UK    Elisabeth II  2071.306034    GS  "
      ]
     },
     "execution_count": 37,
     "metadata": {},
     "output_type": "execute_result"
    }
   ],
   "source": [
    "# Using Filter Method\n",
    "df[df['Continent'] == 'Antarctica']\n",
    "\n",
    "# Using groupby() method\n",
    "df.groupby('Continent').get_group('Antarctica')"
   ]
  },
  {
   "cell_type": "markdown",
   "id": "df0498f8-d1d1-4ef4-ab4c-9cf9f367a6b5",
   "metadata": {},
   "source": [
    "## Visualize and analyse the \"Capital\" Column"
   ]
  },
  {
   "cell_type": "code",
   "execution_count": 40,
   "id": "9e4584be-85c0-40f3-ac38-24404929f44e",
   "metadata": {},
   "outputs": [
    {
     "data": {
      "text/plain": [
       "<function matplotlib.pyplot.show(close=None, block=None)>"
      ]
     },
     "execution_count": 40,
     "metadata": {},
     "output_type": "execute_result"
    },
    {
     "data": {
      "image/png": "[encoded data removed]",
      "text/plain": [
       "<Figure size 640x480 with 1 Axes>"
      ]
     },
     "metadata": {},
     "output_type": "display_data"
    }
   ],
   "source": [
    " y = list(df.Capital)\n",
    " plt.boxplot(y)\n",
    " plt.show"
   ]
  },
  {
   "cell_type": "code",
   "execution_count": 42,
   "id": "1b21429a-9543-4ef2-963e-e3328ddb3ad7",
   "metadata": {},
   "outputs": [
    {
     "data": {
      "text/plain": [
       "4074.0"
      ]
     },
     "execution_count": 42,
     "metadata": {},
     "output_type": "execute_result"
    }
   ],
   "source": [
    "df['Capital'].max()  # Maximum Value"
   ]
  },
  {
   "cell_type": "code",
   "execution_count": 44,
   "id": "6014e22d-5647-41a6-a1ff-710557eb5b1c",
   "metadata": {},
   "outputs": [
    {
     "data": {
      "text/plain": [
       "1.0"
      ]
     },
     "execution_count": 44,
     "metadata": {},
     "output_type": "execute_result"
    }
   ],
   "source": [
    "df['Capital'].min()  # Minimum Value"
   ]
  },
  {
   "cell_type": "code",
   "execution_count": 46,
   "id": "c3842202-0b57-47d9-bb5d-682608edcaf1",
   "metadata": {},
   "outputs": [
    {
     "data": {
      "text/plain": [
       "2071.3060344827586"
      ]
     },
     "execution_count": 46,
     "metadata": {},
     "output_type": "execute_result"
    }
   ],
   "source": [
    "df['Capital'].mean()  # Mean Value"
   ]
  },
  {
   "cell_type": "code",
   "execution_count": 50,
   "id": "462906e5-41cc-4615-8479-2a5b71028ac4",
   "metadata": {},
   "outputs": [
    {
     "data": {
      "text/plain": [
       "495042.1422413793"
      ]
     },
     "execution_count": 50,
     "metadata": {},
     "output_type": "execute_result"
    }
   ],
   "source": [
    "df['Capital'].sum()  # Sum of all values"
   ]
  },
  {
   "cell_type": "markdown",
   "id": "1dcd0222-71d9-4479-9664-130b78072591",
   "metadata": {},
   "source": [
    "## Find Out the Maximum Capital Of Each Region According to their Continents"
   ]
  },
  {
   "cell_type": "code",
   "execution_count": 53,
   "id": "47644a72-5e93-4f8c-b15b-f6ab374f6eb2",
   "metadata": {},
   "outputs": [
    {
     "data": {
      "text/html": [
       "<div>\n",
       "<style scoped>\n",
       "    .dataframe tbody tr th:only-of-type {\n",
       "        vertical-align: middle;\n",
       "    }\n",
       "\n",
       "    .dataframe tbody tr th {\n",
       "        vertical-align: top;\n",
       "    }\n",
       "\n",
       "    .dataframe thead th {\n",
       "        text-align: right;\n",
       "    }\n",
       "</style>\n",
       "<table border=\"1\" class=\"dataframe\">\n",
       "  <thead>\n",
       "    <tr style=\"text-align: right;\">\n",
       "      <th></th>\n",
       "      <th></th>\n",
       "      <th>SurfaceArea</th>\n",
       "      <th>IndependentYear</th>\n",
       "      <th>Population</th>\n",
       "      <th>LifeExpectancy</th>\n",
       "      <th>Capital</th>\n",
       "    </tr>\n",
       "    <tr>\n",
       "      <th>Continent</th>\n",
       "      <th>Region</th>\n",
       "      <th></th>\n",
       "      <th></th>\n",
       "      <th></th>\n",
       "      <th></th>\n",
       "      <th></th>\n",
       "    </tr>\n",
       "  </thead>\n",
       "  <tbody>\n",
       "    <tr>\n",
       "      <th rowspan=\"5\" valign=\"top\">Africa</th>\n",
       "      <th>Central Africa</th>\n",
       "      <td>2344858.0</td>\n",
       "      <td>1975.0</td>\n",
       "      <td>51654000</td>\n",
       "      <td>65.300000</td>\n",
       "      <td>3337.000000</td>\n",
       "    </tr>\n",
       "    <tr>\n",
       "      <th>Eastern Africa</th>\n",
       "      <td>1104300.0</td>\n",
       "      <td>1993.0</td>\n",
       "      <td>62565000</td>\n",
       "      <td>72.700000</td>\n",
       "      <td>4068.000000</td>\n",
       "    </tr>\n",
       "    <tr>\n",
       "      <th>Northern Africa</th>\n",
       "      <td>2505813.0</td>\n",
       "      <td>1962.0</td>\n",
       "      <td>68470000</td>\n",
       "      <td>75.500000</td>\n",
       "      <td>3349.000000</td>\n",
       "    </tr>\n",
       "    <tr>\n",
       "      <th>Southern Africa</th>\n",
       "      <td>1221037.0</td>\n",
       "      <td>1990.0</td>\n",
       "      <td>40377000</td>\n",
       "      <td>51.100000</td>\n",
       "      <td>3244.000000</td>\n",
       "    </tr>\n",
       "    <tr>\n",
       "      <th>Western Africa</th>\n",
       "      <td>1267000.0</td>\n",
       "      <td>1975.0</td>\n",
       "      <td>111506000</td>\n",
       "      <td>76.800000</td>\n",
       "      <td>3332.000000</td>\n",
       "    </tr>\n",
       "    <tr>\n",
       "      <th>Antarctica</th>\n",
       "      <th>Antarctica</th>\n",
       "      <td>13120000.0</td>\n",
       "      <td>0.0</td>\n",
       "      <td>0</td>\n",
       "      <td>66.486036</td>\n",
       "      <td>2071.306034</td>\n",
       "    </tr>\n",
       "    <tr>\n",
       "      <th rowspan=\"4\" valign=\"top\">Asia</th>\n",
       "      <th>Eastern Asia</th>\n",
       "      <td>9572900.0</td>\n",
       "      <td>1948.0</td>\n",
       "      <td>1277558000</td>\n",
       "      <td>81.600000</td>\n",
       "      <td>3263.000000</td>\n",
       "    </tr>\n",
       "    <tr>\n",
       "      <th>Middle East</th>\n",
       "      <td>2149690.0</td>\n",
       "      <td>1991.0</td>\n",
       "      <td>66591000</td>\n",
       "      <td>78.600000</td>\n",
       "      <td>4074.000000</td>\n",
       "    </tr>\n",
       "    <tr>\n",
       "      <th>Southeast Asia</th>\n",
       "      <td>1904569.0</td>\n",
       "      <td>1984.0</td>\n",
       "      <td>212107000</td>\n",
       "      <td>80.100000</td>\n",
       "      <td>3770.000000</td>\n",
       "    </tr>\n",
       "    <tr>\n",
       "      <th>Southern and Central Asia</th>\n",
       "      <td>3287263.0</td>\n",
       "      <td>1991.0</td>\n",
       "      <td>1013662000</td>\n",
       "      <td>71.800000</td>\n",
       "      <td>3503.000000</td>\n",
       "    </tr>\n",
       "    <tr>\n",
       "      <th rowspan=\"6\" valign=\"top\">Europe</th>\n",
       "      <th>Baltic Countries</th>\n",
       "      <td>65301.0</td>\n",
       "      <td>1991.0</td>\n",
       "      <td>3698500</td>\n",
       "      <td>69.500000</td>\n",
       "      <td>3791.000000</td>\n",
       "    </tr>\n",
       "    <tr>\n",
       "      <th>British Islands</th>\n",
       "      <td>242900.0</td>\n",
       "      <td>1921.0</td>\n",
       "      <td>59623400</td>\n",
       "      <td>77.700000</td>\n",
       "      <td>1447.000000</td>\n",
       "    </tr>\n",
       "    <tr>\n",
       "      <th>Eastern Europe</th>\n",
       "      <td>17075400.0</td>\n",
       "      <td>1993.0</td>\n",
       "      <td>146934000</td>\n",
       "      <td>74.500000</td>\n",
       "      <td>3580.000000</td>\n",
       "    </tr>\n",
       "    <tr>\n",
       "      <th>Nordic Countries</th>\n",
       "      <td>449964.0</td>\n",
       "      <td>1944.0</td>\n",
       "      <td>8861400</td>\n",
       "      <td>79.600000</td>\n",
       "      <td>3315.000000</td>\n",
       "    </tr>\n",
       "    <tr>\n",
       "      <th>Southern Europe</th>\n",
       "      <td>505992.0</td>\n",
       "      <td>1992.0</td>\n",
       "      <td>57680000</td>\n",
       "      <td>83.500000</td>\n",
       "      <td>3538.000000</td>\n",
       "    </tr>\n",
       "    <tr>\n",
       "      <th>Western Europe</th>\n",
       "      <td>551500.0</td>\n",
       "      <td>1955.0</td>\n",
       "      <td>82164700</td>\n",
       "      <td>79.600000</td>\n",
       "      <td>3248.000000</td>\n",
       "    </tr>\n",
       "    <tr>\n",
       "      <th rowspan=\"3\" valign=\"top\">North America</th>\n",
       "      <th>Caribbean</th>\n",
       "      <td>110861.0</td>\n",
       "      <td>1983.0</td>\n",
       "      <td>11201000</td>\n",
       "      <td>78.900000</td>\n",
       "      <td>4067.000000</td>\n",
       "    </tr>\n",
       "    <tr>\n",
       "      <th>Central America</th>\n",
       "      <td>1958201.0</td>\n",
       "      <td>1981.0</td>\n",
       "      <td>98881000</td>\n",
       "      <td>75.800000</td>\n",
       "      <td>2882.000000</td>\n",
       "    </tr>\n",
       "    <tr>\n",
       "      <th>North America</th>\n",
       "      <td>9970610.0</td>\n",
       "      <td>1867.0</td>\n",
       "      <td>278357000</td>\n",
       "      <td>79.400000</td>\n",
       "      <td>3813.000000</td>\n",
       "    </tr>\n",
       "    <tr>\n",
       "      <th rowspan=\"5\" valign=\"top\">Oceania</th>\n",
       "      <th>Australia and New Zealand</th>\n",
       "      <td>7741220.0</td>\n",
       "      <td>1907.0</td>\n",
       "      <td>18886000</td>\n",
       "      <td>79.800000</td>\n",
       "      <td>3499.000000</td>\n",
       "    </tr>\n",
       "    <tr>\n",
       "      <th>Melanesia</th>\n",
       "      <td>462840.0</td>\n",
       "      <td>1980.0</td>\n",
       "      <td>4807000</td>\n",
       "      <td>72.800000</td>\n",
       "      <td>3537.000000</td>\n",
       "    </tr>\n",
       "    <tr>\n",
       "      <th>Micronesia</th>\n",
       "      <td>726.0</td>\n",
       "      <td>1994.0</td>\n",
       "      <td>168000</td>\n",
       "      <td>77.800000</td>\n",
       "      <td>2913.000000</td>\n",
       "    </tr>\n",
       "    <tr>\n",
       "      <th>Micronesia/Caribbean</th>\n",
       "      <td>16.0</td>\n",
       "      <td>0.0</td>\n",
       "      <td>0</td>\n",
       "      <td>66.486036</td>\n",
       "      <td>2071.306034</td>\n",
       "    </tr>\n",
       "    <tr>\n",
       "      <th>Polynesia</th>\n",
       "      <td>4000.0</td>\n",
       "      <td>1978.0</td>\n",
       "      <td>235000</td>\n",
       "      <td>75.100000</td>\n",
       "      <td>3536.000000</td>\n",
       "    </tr>\n",
       "    <tr>\n",
       "      <th>South America</th>\n",
       "      <th>South America</th>\n",
       "      <td>8547403.0</td>\n",
       "      <td>1975.0</td>\n",
       "      <td>170115000</td>\n",
       "      <td>76.100000</td>\n",
       "      <td>3539.000000</td>\n",
       "    </tr>\n",
       "  </tbody>\n",
       "</table>\n",
       "</div>"
      ],
      "text/plain": [
       "                                         SurfaceArea  IndependentYear  \\\n",
       "Continent     Region                                                    \n",
       "Africa        Central Africa               2344858.0           1975.0   \n",
       "              Eastern Africa               1104300.0           1993.0   \n",
       "              Northern Africa              2505813.0           1962.0   \n",
       "              Southern Africa              1221037.0           1990.0   \n",
       "              Western Africa               1267000.0           1975.0   \n",
       "Antarctica    Antarctica                  13120000.0              0.0   \n",
       "Asia          Eastern Asia                 9572900.0           1948.0   \n",
       "              Middle East                  2149690.0           1991.0   \n",
       "              Southeast Asia               1904569.0           1984.0   \n",
       "              Southern and Central Asia    3287263.0           1991.0   \n",
       "Europe        Baltic Countries               65301.0           1991.0   \n",
       "              British Islands               242900.0           1921.0   \n",
       "              Eastern Europe              17075400.0           1993.0   \n",
       "              Nordic Countries              449964.0           1944.0   \n",
       "              Southern Europe               505992.0           1992.0   \n",
       "              Western Europe                551500.0           1955.0   \n",
       "North America Caribbean                     110861.0           1983.0   \n",
       "              Central America              1958201.0           1981.0   \n",
       "              North America                9970610.0           1867.0   \n",
       "Oceania       Australia and New Zealand    7741220.0           1907.0   \n",
       "              Melanesia                     462840.0           1980.0   \n",
       "              Micronesia                       726.0           1994.0   \n",
       "              Micronesia/Caribbean              16.0              0.0   \n",
       "              Polynesia                       4000.0           1978.0   \n",
       "South America South America                8547403.0           1975.0   \n",
       "\n",
       "                                         Population  LifeExpectancy  \\\n",
       "Continent     Region                                                  \n",
       "Africa        Central Africa               51654000       65.300000   \n",
       "              Eastern Africa               62565000       72.700000   \n",
       "              Northern Africa              68470000       75.500000   \n",
       "              Southern Africa              40377000       51.100000   \n",
       "              Western Africa              111506000       76.800000   \n",
       "Antarctica    Antarctica                          0       66.486036   \n",
       "Asia          Eastern Asia               1277558000       81.600000   \n",
       "              Middle East                  66591000       78.600000   \n",
       "              Southeast Asia              212107000       80.100000   \n",
       "              Southern and Central Asia  1013662000       71.800000   \n",
       "Europe        Baltic Countries              3698500       69.500000   \n",
       "              British Islands              59623400       77.700000   \n",
       "              Eastern Europe              146934000       74.500000   \n",
       "              Nordic Countries              8861400       79.600000   \n",
       "              Southern Europe              57680000       83.500000   \n",
       "              Western Europe               82164700       79.600000   \n",
       "North America Caribbean                    11201000       78.900000   \n",
       "              Central America              98881000       75.800000   \n",
       "              North America               278357000       79.400000   \n",
       "Oceania       Australia and New Zealand    18886000       79.800000   \n",
       "              Melanesia                     4807000       72.800000   \n",
       "              Micronesia                     168000       77.800000   \n",
       "              Micronesia/Caribbean                0       66.486036   \n",
       "              Polynesia                      235000       75.100000   \n",
       "South America South America               170115000       76.100000   \n",
       "\n",
       "                                             Capital  \n",
       "Continent     Region                                  \n",
       "Africa        Central Africa             3337.000000  \n",
       "              Eastern Africa             4068.000000  \n",
       "              Northern Africa            3349.000000  \n",
       "              Southern Africa            3244.000000  \n",
       "              Western Africa             3332.000000  \n",
       "Antarctica    Antarctica                 2071.306034  \n",
       "Asia          Eastern Asia               3263.000000  \n",
       "              Middle East                4074.000000  \n",
       "              Southeast Asia             3770.000000  \n",
       "              Southern and Central Asia  3503.000000  \n",
       "Europe        Baltic Countries           3791.000000  \n",
       "              British Islands            1447.000000  \n",
       "              Eastern Europe             3580.000000  \n",
       "              Nordic Countries           3315.000000  \n",
       "              Southern Europe            3538.000000  \n",
       "              Western Europe             3248.000000  \n",
       "North America Caribbean                  4067.000000  \n",
       "              Central America            2882.000000  \n",
       "              North America              3813.000000  \n",
       "Oceania       Australia and New Zealand  3499.000000  \n",
       "              Melanesia                  3537.000000  \n",
       "              Micronesia                 2913.000000  \n",
       "              Micronesia/Caribbean       2071.306034  \n",
       "              Polynesia                  3536.000000  \n",
       "South America South America              3539.000000  "
      ]
     },
     "execution_count": 53,
     "metadata": {},
     "output_type": "execute_result"
    }
   ],
   "source": [
    "df.groupby(['Continent','Region']).max('Region')"
   ]
  },
  {
   "cell_type": "markdown",
   "id": "020c9c91-3e39-46aa-82a4-3821d2aeb8e5",
   "metadata": {},
   "source": [
    "## Find out the correlation between different variables in the given dataset"
   ]
  },
  {
   "cell_type": "code",
   "execution_count": 56,
   "id": "b7fe1380-7c14-473a-8b2c-4d66ed63233b",
   "metadata": {},
   "outputs": [
    {
     "data": {
      "text/plain": [
       "<Axes: >"
      ]
     },
     "execution_count": 56,
     "metadata": {},
     "output_type": "execute_result"
    },
    {
     "data": {
      "image/png": "[encoded data removed]",
      "text/plain": [
       "<Figure size 640x480 with 2 Axes>"
      ]
     },
     "metadata": {},
     "output_type": "display_data"
    }
   ],
   "source": [
    "numeric_df = df.select_dtypes(include=['number'])\n",
    "sns.heatmap(numeric_df.corr(), cbar=True,annot=True,cmap='Blues')"
   ]
  },
  {
   "cell_type": "markdown",
   "id": "16c73e36-41be-4b3c-8f3f-bef19671630e",
   "metadata": {},
   "source": [
    "## Analyse how the capital of a region affects the Continent"
   ]
  },
  {
   "cell_type": "code",
   "execution_count": 60,
   "id": "18aa7183-1ae2-4834-8255-db29036a908e",
   "metadata": {},
   "outputs": [
    {
     "data": {
      "text/plain": [
       "Text(0, 0.5, 'Capital')"
      ]
     },
     "execution_count": 60,
     "metadata": {},
     "output_type": "execute_result"
    },
    {
     "data": {
      "image/png": "[encoded data removed]",
      "text/plain": [
       "<Figure size 640x480 with 1 Axes>"
      ]
     },
     "metadata": {},
     "output_type": "display_data"
    }
   ],
   "source": [
    "df.groupby(\"Continent\")['Capital'].sum().plot.bar()\n",
    "plt.xlabel('Continent')\n",
    "plt.ylabel('Capital')"
   ]
  },
  {
   "cell_type": "code",
   "execution_count": 62,
   "id": "57662eb7-71a0-4c0d-9c70-7a66c7c8ea31",
   "metadata": {},
   "outputs": [
    {
     "data": {
      "text/plain": [
       "<Axes: ylabel='Capital'>"
      ]
     },
     "execution_count": 62,
     "metadata": {},
     "output_type": "execute_result"
    },
    {
     "data": {
      "image/png": "[encoded data removed]",
      "text/plain": [
       "<Figure size 640x480 with 1 Axes>"
      ]
     },
     "metadata": {},
     "output_type": "display_data"
    }
   ],
   "source": [
    "df.groupby(\"Continent\")['Capital'].sum().plot.pie(autopct=\"%1.0f%%\")"
   ]
  },
  {
   "cell_type": "markdown",
   "id": "c2fdacf9-9ad3-4e48-a228-6e393eecdcc0",
   "metadata": {},
   "source": []
  }
 ],
 "metadata": {
  "kernelspec": {
   "display_name": "Python 3 (ipykernel)",
   "language": "python",
   "name": "python3"
  },
  "language_info": {
   "codemirror_mode": {
    "name": "ipython",
    "version": 3
   },
   "file_extension": ".py",
   "mimetype": "text/x-python",
   "name": "python",
   "nbconvert_exporter": "python",
   "pygments_lexer": "ipython3",
   "version": "3.12.4"
  }
 },
 "nbformat": 4,
 "nbformat_minor": 5
}
